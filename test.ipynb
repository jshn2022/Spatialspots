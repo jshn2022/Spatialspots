{
 "cells": [
  {
   "cell_type": "code",
   "execution_count": 2,
   "metadata": {},
   "outputs": [],
   "source": [
    "import os\n",
    "import pandas as pd\n",
    "from SpatialSpots import calculate_kde, calculate_morans_i, calculate_wasserstein_distance"
   ]
  },
  {
   "cell_type": "code",
   "execution_count": 3,
   "metadata": {},
   "outputs": [
    {
     "name": "stdout",
     "output_type": "stream",
     "text": [
      "            dim_1      dim_2       gene\n",
      "0          0.0000    45.0000   PB1_701P\n",
      "1          0.0000    90.0000   PB1_701P\n",
      "2          0.0000   104.0000     Col4a1\n",
      "3          0.0000   153.0000  PB1-P701H\n",
      "4          0.0000   174.0000  PB1-P701H\n",
      "...           ...        ...        ...\n",
      "205906  2168.5000  2730.0000        PB2\n",
      "205907  2254.5000  2610.0000        PB2\n",
      "205908  2331.0217  2543.3696        PB2\n",
      "205909  2301.5000  2649.0000        PB2\n",
      "205910  2722.5000  2674.0000        PB2\n",
      "\n",
      "[205911 rows x 3 columns]\n",
      "Results saved to ./DOG-I-63X/./test_combined_morans_i_results.csv\n"
     ]
    }
   ],
   "source": [
    "csv_dir = './DOG-I-63X'\n",
    "genes = ['PB2', 'PB1', 'PA', 'HA', 'NP', 'H5NA', 'M', 'NS']\n",
    "results = []\n",
    "\n",
    "for sample in os.listdir(csv_dir):\n",
    "    sample_path = os.path.join(csv_dir, sample)\n",
    "    df = pd.read_csv(sample_path)\n",
    "    print(df)\n",
    "    df_filtered = df[df['gene'].isin(genes)]\n",
    "    \n",
    "    if not df_filtered.empty:\n",
    "        # points = df_filtered[[\"dim_1\", \"dim_2\"]].values\n",
    "        points = df_filtered[[\"dim_1\", \"dim_2\"]].values[:50] #todo\n",
    "        xy, density = calculate_kde(points, bandwidth=2, grid_size=10)\n",
    "        morans_i = calculate_morans_i(xy, density, threshold_distance=50)\n",
    "        \n",
    "        results.append({\n",
    "            'sample': sample,\n",
    "            'morans_i': morans_i\n",
    "        })\n",
    "\n",
    "results_df = pd.DataFrame(results)\n",
    "output_path = os.path.join(csv_dir, './test_combined_morans_i_results.csv')\n",
    "results_df.to_csv(output_path, index=False)\n",
    "\n",
    "print(f\"Results saved to {output_path}\")\n"
   ]
  },
  {
   "cell_type": "code",
   "execution_count": null,
   "metadata": {},
   "outputs": [],
   "source": [
    "csv_dir = './DOG-I-63X'\n",
    "genes = ['PB2', 'PB1', 'PA', 'HA', 'NP', 'H5NA', 'M', 'NS']\n",
    "results = []\n",
    "\n",
    "for sample in os.listdir(csv_dir):\n",
    "    sample_path = os.path.join(csv_dir, sample)\n",
    "    df = pd.read_csv(sample_path)\n",
    "    print(df)\n",
    "    df_filtered = df[df['gene'].isin(genes)]\n",
    "    \n",
    "    if not df_filtered.empty:\n",
    "        # points = df_filtered[[\"dim_1\", \"dim_2\"]].values\n",
    "        points = df_filtered[[\"dim_1\", \"dim_2\"]].values[:50] #todo\n",
    "        xy, density = calculate_kde(points, bandwidth=2, grid_size=10)\n",
    "        w_distance = calculate_wasserstein_distance(xy, density, threshold_distance=50)\n",
    "        \n",
    "        results.append({\n",
    "            'sample': sample,\n",
    "            'morans_i': morans_i\n",
    "        })\n",
    "\n",
    "results_df = pd.DataFrame(results)\n",
    "output_path = os.path.join(csv_dir, './test_combined_morans_i_results.csv')\n",
    "results_df.to_csv(output_path, index=False)\n",
    "\n",
    "print(f\"Results saved to {output_path}\")"
   ]
  }
 ],
 "metadata": {
  "kernelspec": {
   "display_name": "sopa",
   "language": "python",
   "name": "python3"
  },
  "language_info": {
   "codemirror_mode": {
    "name": "ipython",
    "version": 3
   },
   "file_extension": ".py",
   "mimetype": "text/x-python",
   "name": "python",
   "nbconvert_exporter": "python",
   "pygments_lexer": "ipython3",
   "version": "3.10.13"
  }
 },
 "nbformat": 4,
 "nbformat_minor": 2
}
