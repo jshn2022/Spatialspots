{
 "cells": [
  {
   "cell_type": "code",
   "execution_count": 1,
   "metadata": {},
   "outputs": [],
   "source": [
    "import os\n",
    "import pandas as pd\n",
    "from SpatialSpots import calculate_kde"
   ]
  },
  {
   "cell_type": "code",
   "execution_count": 2,
   "metadata": {},
   "outputs": [],
   "source": [
    "from SpatialSpots import calculate_morans_i"
   ]
  },
  {
   "cell_type": "code",
   "execution_count": 7,
   "metadata": {},
   "outputs": [
    {
     "name": "stdout",
     "output_type": "stream",
     "text": [
      "            dim_1      dim_2       gene\n",
      "0          0.0000    45.0000   PB1_701P\n",
      "1          0.0000    90.0000   PB1_701P\n",
      "2          0.0000   104.0000     Col4a1\n",
      "3          0.0000   153.0000  PB1-P701H\n",
      "4          0.0000   174.0000  PB1-P701H\n",
      "...           ...        ...        ...\n",
      "205906  2168.5000  2730.0000        PB2\n",
      "205907  2254.5000  2610.0000        PB2\n",
      "205908  2331.0217  2543.3696        PB2\n",
      "205909  2301.5000  2649.0000        PB2\n",
      "205910  2722.5000  2674.0000        PB2\n",
      "\n",
      "[205911 rows x 3 columns]\n"
     ]
    },
    {
     "ename": "TypeError",
     "evalue": "calculate_kde() got an unexpected keyword argument 'gene'",
     "output_type": "error",
     "traceback": [
      "\u001b[0;31m---------------------------------------------------------------------------\u001b[0m",
      "\u001b[0;31mTypeError\u001b[0m                                 Traceback (most recent call last)",
      "Cell \u001b[0;32mIn[7], line 11\u001b[0m\n\u001b[1;32m      8\u001b[0m \u001b[38;5;28mprint\u001b[39m(df)\n\u001b[1;32m      9\u001b[0m \u001b[38;5;28;01mif\u001b[39;00m \u001b[38;5;129;01mnot\u001b[39;00m df\u001b[38;5;241m.\u001b[39mempty:\n\u001b[1;32m     10\u001b[0m     \u001b[38;5;66;03m# points = df_filtered[[\"dim_1\", \"dim_2\"]].values\u001b[39;00m\n\u001b[0;32m---> 11\u001b[0m     xy, density \u001b[38;5;241m=\u001b[39m \u001b[43mcalculate_kde\u001b[49m\u001b[43m(\u001b[49m\u001b[43mdf\u001b[49m\u001b[43m,\u001b[49m\u001b[43m \u001b[49m\u001b[43mgene\u001b[49m\u001b[38;5;241;43m=\u001b[39;49m\u001b[43mgenes\u001b[49m\u001b[43m,\u001b[49m\u001b[43m \u001b[49m\u001b[43mbandwidth\u001b[49m\u001b[38;5;241;43m=\u001b[39;49m\u001b[38;5;241;43m2\u001b[39;49m\u001b[43m,\u001b[49m\u001b[43m \u001b[49m\u001b[43mgrid_size\u001b[49m\u001b[38;5;241;43m=\u001b[39;49m\u001b[38;5;241;43m10\u001b[39;49m\u001b[43m)\u001b[49m\n\u001b[1;32m     12\u001b[0m     morans_i \u001b[38;5;241m=\u001b[39m calculate_morans_i(xy, density, threshold_distance\u001b[38;5;241m=\u001b[39m\u001b[38;5;241m50\u001b[39m)\n\u001b[1;32m     14\u001b[0m     results\u001b[38;5;241m.\u001b[39mappend({\n\u001b[1;32m     15\u001b[0m         \u001b[38;5;124m'\u001b[39m\u001b[38;5;124msample\u001b[39m\u001b[38;5;124m'\u001b[39m: sample,\n\u001b[1;32m     16\u001b[0m         \u001b[38;5;124m'\u001b[39m\u001b[38;5;124mmorans_i\u001b[39m\u001b[38;5;124m'\u001b[39m: morans_i\n\u001b[1;32m     17\u001b[0m     })\n",
      "\u001b[0;31mTypeError\u001b[0m: calculate_kde() got an unexpected keyword argument 'gene'"
     ]
    }
   ],
   "source": [
    "csv_dir = './DOG-I-63X'\n",
    "gene = ['M']\n",
    "results = []\n",
    "\n",
    "for sample in os.listdir(csv_dir):\n",
    "    sample_path = os.path.join(csv_dir, sample)\n",
    "    df = pd.read_csv(sample_path)\n",
    "    print(df)\n",
    "    if not df.empty:\n",
    "        # points = df_filtered[[\"dim_1\", \"dim_2\"]].values\n",
    "        xy, density = calculate_kde(df, gene=gene, bandwidth=2, grid_size=10)\n",
    "        morans_i = calculate_morans_i(xy, density, threshold_distance=50)\n",
    "        \n",
    "        results.append({\n",
    "            'sample': sample,\n",
    "            'morans_i': morans_i\n",
    "        })\n",
    "\n",
    "results_df = pd.DataFrame(results)\n",
    "output_path = os.path.join(csv_dir, './test_combined_morans_i_results.csv')\n",
    "results_df.to_csv(output_path, index=False)\n",
    "\n",
    "print(f\"Results saved to {output_path}\")\n"
   ]
  },
  {
   "cell_type": "code",
   "execution_count": null,
   "metadata": {},
   "outputs": [],
   "source": [
    "df = pd.read_csv('A2-1-cellspots.csv')\n",
    "w_dis = calculate_wasserstein_distances(df, )\n"
   ]
  }
 ],
 "metadata": {
  "kernelspec": {
   "display_name": "sopa",
   "language": "python",
   "name": "python3"
  },
  "language_info": {
   "codemirror_mode": {
    "name": "ipython",
    "version": 3
   },
   "file_extension": ".py",
   "mimetype": "text/x-python",
   "name": "python",
   "nbconvert_exporter": "python",
   "pygments_lexer": "ipython3",
   "version": "3.10.13"
  }
 },
 "nbformat": 4,
 "nbformat_minor": 2
}
