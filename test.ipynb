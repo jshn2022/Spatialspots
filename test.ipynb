{
 "cells": [
  {
   "cell_type": "code",
   "execution_count": 1,
   "metadata": {},
   "outputs": [],
   "source": [
    "import os\n",
    "import pandas as pd\n",
    "from SpatialSpots import calculate_kde"
   ]
  },
  {
   "cell_type": "code",
   "execution_count": 2,
   "metadata": {},
   "outputs": [],
   "source": [
    "from SpatialSpots import calculate_morans_i"
   ]
  },
  {
   "cell_type": "code",
   "execution_count": 3,
   "metadata": {},
   "outputs": [
    {
     "name": "stdout",
     "output_type": "stream",
     "text": [
      "            dim_1      dim_2       gene\n",
      "0          0.0000    45.0000   PB1_701P\n",
      "1          0.0000    90.0000   PB1_701P\n",
      "2          0.0000   104.0000     Col4a1\n",
      "3          0.0000   153.0000  PB1-P701H\n",
      "4          0.0000   174.0000  PB1-P701H\n",
      "...           ...        ...        ...\n",
      "205906  2168.5000  2730.0000        PB2\n",
      "205907  2254.5000  2610.0000        PB2\n",
      "205908  2331.0217  2543.3696        PB2\n",
      "205909  2301.5000  2649.0000        PB2\n",
      "205910  2722.5000  2674.0000        PB2\n",
      "\n",
      "[205911 rows x 3 columns]\n"
     ]
    },
    {
     "name": "stderr",
     "output_type": "stream",
     "text": [
      "100%|██████████| 1/1 [00:00<00:00,  2.22it/s]\n"
     ]
    },
    {
     "name": "stdout",
     "output_type": "stream",
     "text": [
      "Results saved to ./test_combined_morans_i_results.csv\n"
     ]
    }
   ],
   "source": [
    "csv_dir = './DOG-I-63X'\n",
    "gene = ['M']\n",
    "results = []\n",
    "\n",
    "for sample in os.listdir(csv_dir):\n",
    "    sample_path = os.path.join(csv_dir, sample)\n",
    "    df = pd.read_csv(sample_path)\n",
    "    print(df)\n",
    "    if not df.empty:\n",
    "        xy, density = calculate_kde(df, genes=gene, bandwidth=2, grid_size=10)\n",
    "        morans_i = calculate_morans_i(xy, density[0], threshold_distance=50)\n",
    "        \n",
    "        results.append({\n",
    "            'sample': sample,\n",
    "            'morans_i': morans_i\n",
    "        })\n",
    "\n",
    "results_df = pd.DataFrame(results)\n",
    "output_path = './test_combined_morans_i_results.csv'\n",
    "results_df.to_csv(output_path, index=False)\n",
    "\n",
    "print(f\"Results saved to {output_path}\")"
   ]
  },
  {
   "cell_type": "code",
   "execution_count": 4,
   "metadata": {},
   "outputs": [],
   "source": [
    "from SpatialSpots import calculate_wasserstein_distance"
   ]
  },
  {
   "cell_type": "code",
   "execution_count": 5,
   "metadata": {},
   "outputs": [
    {
     "name": "stdout",
     "output_type": "stream",
     "text": [
      "            dim_1      dim_2       gene\n",
      "0          0.0000    45.0000   PB1_701P\n",
      "1          0.0000    90.0000   PB1_701P\n",
      "2          0.0000   104.0000     Col4a1\n",
      "3          0.0000   153.0000  PB1-P701H\n",
      "4          0.0000   174.0000  PB1-P701H\n",
      "...           ...        ...        ...\n",
      "205906  2168.5000  2730.0000        PB2\n",
      "205907  2254.5000  2610.0000        PB2\n",
      "205908  2331.0217  2543.3696        PB2\n",
      "205909  2301.5000  2649.0000        PB2\n",
      "205910  2722.5000  2674.0000        PB2\n",
      "\n",
      "[205911 rows x 3 columns]\n"
     ]
    },
    {
     "name": "stderr",
     "output_type": "stream",
     "text": [
      "100%|██████████| 3/3 [00:02<00:00,  1.04it/s]\n"
     ]
    },
    {
     "name": "stdout",
     "output_type": "stream",
     "text": [
      "go\n"
     ]
    },
    {
     "name": "stderr",
     "output_type": "stream",
     "text": [
      "100%|██████████| 3/3 [00:00<00:00, 11.57it/s]"
     ]
    },
    {
     "name": "stdout",
     "output_type": "stream",
     "text": [
      "[[   0.         3706.60091831 3957.28724443]\n",
      " [3706.60091831    0.         3763.06145831]\n",
      " [3957.28724443 3763.06145831    0.        ]]\n"
     ]
    },
    {
     "name": "stderr",
     "output_type": "stream",
     "text": [
      "\n"
     ]
    }
   ],
   "source": [
    "csv_dir = './DOG-I-63X'\n",
    "genes = ['PB2', 'Col4a1','M']\n",
    "\n",
    "for sample in os.listdir(csv_dir):\n",
    "    sample_path = os.path.join(csv_dir, sample)\n",
    "    df = pd.read_csv(sample_path)\n",
    "    print(df)\n",
    "    xy, densities = calculate_kde(df, genes, bandwidth=2, grid_size=10)\n",
    "    w_dis = calculate_wasserstein_distance(densities, xy, genes=genes)\n",
    "    print(w_dis)"
   ]
  },
  {
   "cell_type": "code",
   "execution_count": 11,
   "metadata": {},
   "outputs": [
    {
     "data": {
      "image/png": "[encoded data removed]",
      "text/plain": [
       "<Figure size 600x500 with 2 Axes>"
      ]
     },
     "metadata": {},
     "output_type": "display_data"
    }
   ],
   "source": [
    "import matplotlib.pyplot as plt\n",
    "import numpy as np \n",
    "\n",
    "plt.figure(figsize=(6, 5))\n",
    "plt.imshow(w_dis, cmap='RdBu_r', interpolation='nearest')\n",
    "plt.colorbar(label='test')\n",
    "plt.xticks(np.arange(len(genes)), genes, rotation=90)\n",
    "plt.yticks(np.arange(len(genes)), genes)\n",
    "plt.title('test Matrix')\n",
    "plt.xlabel('Genes')\n",
    "plt.ylabel('Genes')\n",
    "plt.show()"
   ]
  }
 ],
 "metadata": {
  "kernelspec": {
   "display_name": "sopa",
   "language": "python",
   "name": "python3"
  },
  "language_info": {
   "codemirror_mode": {
    "name": "ipython",
    "version": 3
   },
   "file_extension": ".py",
   "mimetype": "text/x-python",
   "name": "python",
   "nbconvert_exporter": "python",
   "pygments_lexer": "ipython3",
   "version": "3.10.13"
  }
 },
 "nbformat": 4,
 "nbformat_minor": 2
}
